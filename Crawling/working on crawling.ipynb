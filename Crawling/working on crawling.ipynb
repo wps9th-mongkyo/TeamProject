{
 "cells": [
  {
   "cell_type": "markdown",
   "metadata": {},
   "source": [
    "# Import"
   ]
  },
  {
   "cell_type": "code",
   "execution_count": 5,
   "metadata": {},
   "outputs": [],
   "source": [
    "from selenium import webdriver\n",
    "from selenium.webdriver.chrome.options import Options\n",
    "from selenium.webdriver.common.keys import Keys\n",
    "import requests\n",
    "from bs4 import BeautifulSoup\n",
    "import lxml\n",
    "import sys\n",
    "import time\n",
    "import re\n",
    "import urllib.request"
   ]
  },
  {
   "cell_type": "markdown",
   "metadata": {},
   "source": [
    "# chromedriver 위치 설정"
   ]
  },
  {
   "cell_type": "code",
   "execution_count": 6,
   "metadata": {},
   "outputs": [],
   "source": [
    "chromedriver_dir = '/Users/mongkyo/projects/mango-plate/Crawling/chromedriver'\n",
    "# options = webdriver.ChromeOptions()\n",
    "# options.add_argument('headless')\n",
    "# options.add_argument('window-size=1920x1080')\n",
    "# options.add_argument(\"disable-gpu\")\n",
    "# driver = webdriver.Chrome(chormedriver_dir, chrome_option=options)"
   ]
  },
  {
   "cell_type": "markdown",
   "metadata": {},
   "source": [
    "# for문을 사용하여 성수역 검색결과 1페이지 식당 들어갔다 나오기\n",
    "\n",
    "### 식당 별 for문 돌면서 딕셔너리에 값 가져오기. (리스트 안에 디셔너리들을 넣음)"
   ]
  },
  {
   "cell_type": "code",
   "execution_count": 7,
   "metadata": {},
   "outputs": [],
   "source": [
    "store_info = []\n",
    "info = dict()"
   ]
  },
  {
   "cell_type": "code",
   "execution_count": 61,
   "metadata": {
    "scrolled": true
   },
   "outputs": [
    {
     "name": "stdout",
     "output_type": "stream",
     "text": [
      "Ad Found\n",
      "\n",
      "Total Ads: 2\n"
     ]
    }
   ],
   "source": [
    "driver = webdriver.Chrome(chromedriver_dir)\n",
    "driver.get('https://www.mangoplate.com/')\n",
    "all_iframes = driver.find_elements_by_tag_name(\"iframe\")\n",
    "if len(all_iframes) > 0:\n",
    "    print(\"Ad Found\\n\")\n",
    "    driver.execute_script(\"\"\"\n",
    "        var elems = document.getElementsByTagName(\"iframe\"); \n",
    "        for(var i = 0, max = elems.length; i < max; i++)\n",
    "             {\n",
    "                 elems[i].hidden=true;\n",
    "             }\n",
    "                          \"\"\")\n",
    "    print('Total Ads: ' + str(len(all_iframes)))\n",
    "else:\n",
    "    print('No frames found')\n",
    "driver.get('https://www.mangoplate.com/')\n",
    "elem = driver.find_element_by_name(\"main-search\")\n",
    "elem.send_keys(\"성수역\")\n",
    "elem.send_keys(Keys.RETURN)\n",
    "for page in range(1, 2+1):\n",
    "    if page == 1:\n",
    "        pass\n",
    "    else:\n",
    "        driver.find_element_by_xpath(f'/html/body/main/article/div[2]/div/div/section/div[4]/p/a[{page}]').click()\n",
    "        time.sleep(3)\n",
    "    for li in range(1,10+1):\n",
    "        for div in range(1,2+1):\n",
    "            driver.find_element_by_xpath(f'/html/body/main/article/div[2]/div/div/section/div[3]/ul/li[{li}]/div[{div}]/figure/a').click()\n",
    "            html = driver.page_source\n",
    "            soup = BeautifulSoup(html, 'html.parser')\n",
    "            title = soup.find(\"h1\", {\"class\": \"restaurant_name\"})\n",
    "    #         rating = soup.find(\"strong\", {\"class\": \"rate-point\"})\n",
    "            info = dict()\n",
    "            info['name'] = title.get_text()\n",
    "    #         info['평점'] = rating.get_text()\n",
    "            table = soup.find(\"tbody\")\n",
    "            for thtd in table.find_all(\"tr\"):\n",
    "                if thtd.th.get_text() != \"메뉴\":\n",
    "                    temp = thtd.th.get_text().replace(' ', '')\n",
    "                    if temp.replace('\\n', '') == '주소':\n",
    "                        info['address'] = thtd.td.get_text().replace('\\n', '')\n",
    "                    elif temp.replace('\\n', '') == '전화번호':\n",
    "                        info['phone'] = thtd.td.get_text().replace('\\n', '')\n",
    "                    elif temp.replace('\\n', '') == '음식종류':\n",
    "                        info['food_type'] = thtd.td.get_text().replace('\\n', '')\n",
    "                    elif temp.replace('\\n', '') == '가격대':\n",
    "                        info['pricee_level'] = thtd.td.get_text().replace('\\n', '')\n",
    "                    elif temp.replace('\\n', '') == '주차':\n",
    "                        info['parking'] = thtd.td.get_text().replace('\\n', '')\n",
    "                    elif temp.replace('\\n', '') == '영업시간':\n",
    "                        info['Business_hour'] = thtd.td.get_text().replace('\\n', '')\n",
    "                    elif temp.replace('\\n', '') == '쉬는시간':\n",
    "                        info['break_time'] = thtd.td.get_text().replace('\\n', '')\n",
    "                    elif temp.replace('\\n', '') == '마지막주문':\n",
    "                        info['last_order'] = thtd.td.get_text().replace('\\n', '')\n",
    "                    elif temp.replace('\\n', '') == '휴일':\n",
    "                        info['holiday'] = thtd.td.get_text().replace('\\n', '')\n",
    "                    elif temp.replace('\\n', '') == '사이트':\n",
    "                        info['website'] = thtd.td.get_text().replace('\\n', '')\n",
    "                    elif temp.replace('\\n', '') == '유튜브':\n",
    "                        info['youtube'] = thtd.td.get_text().replace('\\n', '')\n",
    "                else:\n",
    "                    info[thtd.th.get_text()] = thtd.td.get_text().replace('\\n', '')\n",
    "            time.sleep(1)\n",
    "            map_tag = soup.select_one('body > main > article > div.column-wrapper > div.side-wrap > div > div.map-container.daum_map_wrap > img')['src']\n",
    "            p = re.compile(r'center=(?P<longitude>[\\d\\.]+),(?P<latitude>[\\d\\.]+)')\n",
    "            k= re.search(p, map_tag)\n",
    "            info['longitude'] = k.group('longitude')\n",
    "            info['latitude'] = k.group('latitude')\n",
    "            store_info.append(info)\n",
    "            image_test = []\n",
    "            for n in range(1, 5+1):\n",
    "                image_test.append(soup.select_one(f'body > main > article > aside.restaurant-photos > div.list-photo_wrap.owl-carousel.owl-theme > div.owl-wrapper-outer > div > div:nth-of-type({n}) > figure > figure > img')['src'])\n",
    "            count = 1\n",
    "            for url in image_test:\n",
    "                restaurant_name = info['name']\n",
    "                img_url = urllib.request.urlretrieve(url, f'{restaurant_name}-{count}.jpg')\n",
    "                count += 1\n",
    "            driver.execute_script(\"window.history.go(-1)\")"
   ]
  },
  {
   "cell_type": "markdown",
   "metadata": {},
   "source": [
    "# shell_plus에서 DB저장"
   ]
  },
  {
   "cell_type": "code",
   "execution_count": null,
   "metadata": {},
   "outputs": [],
   "source": [
    "from selenium import webdriver\n",
    "from selenium.webdriver.chrome.options import Options\n",
    "from selenium.webdriver.common.keys import Keys\n",
    "import requests\n",
    "from bs4 import BeautifulSoup\n",
    "import lxml\n",
    "import sys\n",
    "import time\n",
    "import re\n",
    "chromedriver_dir = '/Users/mongkyo/projects/mango-plate/Crawling/chromedriver'\n",
    "store_info = []\n",
    "info = dict()"
   ]
  },
  {
   "cell_type": "code",
   "execution_count": null,
   "metadata": {},
   "outputs": [],
   "source": [
    "driver = webdriver.Chrome(chromedriver_dir)\n",
    "driver.get('https://www.mangoplate.com/')\n",
    "all_iframes = driver.find_elements_by_tag_name(\"iframe\")\n",
    "if len(all_iframes) > 0:\n",
    "    print(\"Ad Found\\n\")\n",
    "    driver.execute_script(\"\"\"\n",
    "        var elems = document.getElementsByTagName(\"iframe\"); \n",
    "        for(var i = 0, max = elems.length; i < max; i++)\n",
    "             {\n",
    "                 elems[i].hidden=true;\n",
    "             }\n",
    "                          \"\"\")\n",
    "    print('Total Ads: ' + str(len(all_iframes)))\n",
    "else:\n",
    "    print('No frames found')\n",
    "driver.get('https://www.mangoplate.com/')\n",
    "elem = driver.find_element_by_name(\"main-search\")\n",
    "elem.send_keys(\"성수역\")\n",
    "elem.send_keys(Keys.RETURN)\n",
    "for page in range(1, 2+1):\n",
    "    if page == 1:\n",
    "        pass\n",
    "    else:\n",
    "        driver.find_element_by_xpath(f'/html/body/main/article/div[2]/div/div/section/div[4]/p/a[{page}]').click()\n",
    "        time.sleep(3)\n",
    "    for li in range(1,10+1):\n",
    "        for div in range(1,2+1):\n",
    "            driver.find_element_by_xpath(f'/html/body/main/article/div[2]/div/div/section/div[3]/ul/li[{li}]/div[{div}]/figure/a').click()\n",
    "            html = driver.page_source\n",
    "            soup = BeautifulSoup(html, 'html.parser')\n",
    "            title = soup.find(\"h1\", {\"class\": \"restaurant_name\"})\n",
    "    #         rating = soup.find(\"strong\", {\"class\": \"rate-point\"})\n",
    "            info = dict()\n",
    "            info['name'] = title.get_text()\n",
    "    #         info['평점'] = rating.get_text()\n",
    "            table = soup.find(\"tbody\")\n",
    "            for thtd in table.find_all(\"tr\"):\n",
    "                if thtd.th.get_text() != \"메뉴\":\n",
    "                    temp = thtd.th.get_text().replace(' ', '')\n",
    "                    if temp.replace('\\n', '') == '주소':\n",
    "                        info['address'] = thtd.td.get_text().replace('\\n', '')\n",
    "                    elif temp.replace('\\n', '') == '전화번호':\n",
    "                        info['phone_num'] = thtd.td.get_text().replace('\\n', '')\n",
    "                    elif temp.replace('\\n', '') == '음식종류':\n",
    "                        info['food_type'] = thtd.td.get_text().replace('\\n', '')\n",
    "                    elif temp.replace('\\n', '') == '가격대':\n",
    "                        info['price_level'] = thtd.td.get_text().replace('\\n', '')\n",
    "                    elif temp.replace('\\n', '') == '주차':\n",
    "                        info['parking'] = thtd.td.get_text().replace('\\n', '')\n",
    "                    elif temp.replace('\\n', '') == '영업시간':\n",
    "                        info['Business_hour'] = thtd.td.get_text().replace('\\n', '')\n",
    "                    elif temp.replace('\\n', '') == '쉬는시간':\n",
    "                        info['break_time'] = thtd.td.get_text().replace('\\n', '')\n",
    "                    elif temp.replace('\\n', '') == '마지막주문':\n",
    "                        info['last_order'] = thtd.td.get_text().replace('\\n', '')\n",
    "                    elif temp.replace('\\n', '') == '휴일':\n",
    "                        info['holiday'] = thtd.td.get_text().replace('\\n', '')\n",
    "                    elif temp.replace('\\n', '') == '사이트':\n",
    "                        info['website'] = thtd.td.get_text().replace('\\n', '')\n",
    "                    elif temp.replace('\\n', '') == '유튜브':\n",
    "                        info['youtube'] = thtd.td.get_text().replace('\\n', '')\n",
    "            time.sleep(1)\n",
    "            map_tag = soup.select_one('body > main > article > div.column-wrapper > div.side-wrap > div > div.map-container.daum_map_wrap > img')['src']\n",
    "            p = re.compile(r'center=(?P<longitude>[\\d\\.]+),(?P<latitude>[\\d\\.]+)')\n",
    "            k= re.search(p, map_tag)\n",
    "            info['longitude'] = k.group('longitude')\n",
    "            info['latitude'] = k.group('latitude')\n",
    "            store_info.append(info)\n",
    "            driver.execute_script(\"window.history.go(-1)\")"
   ]
  },
  {
   "cell_type": "code",
   "execution_count": null,
   "metadata": {},
   "outputs": [],
   "source": [
    "for store in store_info:\n",
    "     Restaurant.objects.get_or_create(**store)"
   ]
  },
  {
   "cell_type": "markdown",
   "metadata": {},
   "source": [
    "# 사진 정보 가져오기"
   ]
  },
  {
   "cell_type": "code",
   "execution_count": 47,
   "metadata": {},
   "outputs": [],
   "source": [
    "image1 = soup.select_one('body > main > article > aside.restaurant-photos > div.list-photo_wrap.owl-carousel.owl-theme > div.owl-wrapper-outer > div > div:nth-of-type(1) > figure > figure > img')['src']\n",
    "save_name1 = f\"{info['name']}\" + \".jpg\"\n",
    "image2 = soup.select_one('body > main > article > aside.restaurant-photos > div.list-photo_wrap.owl-carousel.owl-theme > div.owl-wrapper-outer > div > div:nth-of-type(2) > figure > figure > img')['src']\n",
    "save_name2 = info['name'] + \".jpg\"\n",
    "image3 = soup.select_one('body > main > article > aside.restaurant-photos > div.list-photo_wrap.owl-carousel.owl-theme > div.owl-wrapper-outer > div > div:nth-of-type(3) > figure > figure > img')['src']\n",
    "save_name3 = info['name'] + \".jpg\"\n",
    "image4 = soup.select_one('body > main > article > aside.restaurant-photos > div.list-photo_wrap.owl-carousel.owl-theme > div.owl-wrapper-outer > div > div:nth-of-type(4) > figure > figure > img')['src']\n",
    "save_name4 = info['name'] + \".jpg\"\n",
    "image5 = soup.select_one('body > main > article > aside.restaurant-photos > div.list-photo_wrap.owl-carousel.owl-theme > div.owl-wrapper-outer > div > div:nth-of-type(5) > figure > figure > img')['src']\n",
    "save_name5 = info['name'] + \".jpg\"\n",
    "save_names = []\n",
    "for n in range(1, 5+1):\n",
    "    save_names.append(f\"{info['name']}{n}\" + \".jpg\")"
   ]
  },
  {
   "cell_type": "code",
   "execution_count": 48,
   "metadata": {
    "scrolled": false
   },
   "outputs": [
    {
     "data": {
      "text/plain": [
       "['힙스터스1.jpg', '힙스터스2.jpg', '힙스터스3.jpg', '힙스터스4.jpg', '힙스터스5.jpg']"
      ]
     },
     "execution_count": 48,
     "metadata": {},
     "output_type": "execute_result"
    }
   ],
   "source": [
    "save_names\n",
    "# image1\n",
    "# urllib.request.urlretrieve(image1, save_names[1])"
   ]
  },
  {
   "cell_type": "code",
   "execution_count": 45,
   "metadata": {},
   "outputs": [
    {
     "name": "stdout",
     "output_type": "stream",
     "text": [
      "image1\n",
      "save_name1\n",
      "image2\n",
      "save_name2\n",
      "image3\n",
      "save_name3\n",
      "image4\n",
      "save_name4\n",
      "image5\n",
      "save_name5\n"
     ]
    }
   ],
   "source": [
    "for k in range(1,5+1):\n",
    "    print(f\"image{k}\") \n",
    "    print(f\"save_name{k}.jpg\")\n",
    "    urllib.request.urlretrieve()"
   ]
  },
  {
   "cell_type": "code",
   "execution_count": 42,
   "metadata": {},
   "outputs": [
    {
     "data": {
      "text/plain": [
       "('힙스터스.jpg', <http.client.HTTPMessage at 0x1084820b8>)"
      ]
     },
     "execution_count": 42,
     "metadata": {},
     "output_type": "execute_result"
    }
   ],
   "source": [
    "urllib.request.urlretrieve(image1, save_name1)\n",
    "urllib.request.urlretrieve(image2, save_name2) \n",
    "urllib.request.urlretrieve(image3, save_name3)\n",
    "urllib.request.urlretrieve(image4, save_name4)\n",
    "urllib.request.urlretrieve(image5, save_name5)\n"
   ]
  },
  {
   "cell_type": "code",
   "execution_count": null,
   "metadata": {},
   "outputs": [],
   "source": [
    "for store in store_info:\n",
    "     Restaurant.objects.get_or_create(**store)"
   ]
  },
  {
   "cell_type": "code",
   "execution_count": 46,
   "metadata": {},
   "outputs": [
    {
     "ename": "ValueError",
     "evalue": "unknown url type: 'image1'",
     "output_type": "error",
     "traceback": [
      "\u001b[0;31m---------------------------------------------------------------------------\u001b[0m",
      "\u001b[0;31mValueError\u001b[0m                                Traceback (most recent call last)",
      "\u001b[0;32m<ipython-input-46-70380d72208d>\u001b[0m in \u001b[0;36m<module>\u001b[0;34m\u001b[0m\n\u001b[1;32m      1\u001b[0m \u001b[0;32mfor\u001b[0m \u001b[0mk\u001b[0m \u001b[0;32min\u001b[0m \u001b[0mrange\u001b[0m\u001b[0;34m(\u001b[0m\u001b[0;36m1\u001b[0m\u001b[0;34m,\u001b[0m \u001b[0;36m5\u001b[0m\u001b[0;34m+\u001b[0m\u001b[0;36m1\u001b[0m\u001b[0;34m)\u001b[0m\u001b[0;34m:\u001b[0m\u001b[0;34m\u001b[0m\u001b[0m\n\u001b[0;32m----> 2\u001b[0;31m     \u001b[0murllib\u001b[0m\u001b[0;34m.\u001b[0m\u001b[0mrequest\u001b[0m\u001b[0;34m.\u001b[0m\u001b[0murlretrieve\u001b[0m\u001b[0;34m(\u001b[0m\u001b[0;34mf'image{k}'\u001b[0m\u001b[0;34m,\u001b[0m \u001b[0;34mf'save_name{k}'\u001b[0m\u001b[0;34m)\u001b[0m\u001b[0;34m\u001b[0m\u001b[0m\n\u001b[0m",
      "\u001b[0;32m/usr/local/var/pyenv/versions/3.6.6/lib/python3.6/urllib/request.py\u001b[0m in \u001b[0;36murlretrieve\u001b[0;34m(url, filename, reporthook, data)\u001b[0m\n\u001b[1;32m    246\u001b[0m     \u001b[0murl_type\u001b[0m\u001b[0;34m,\u001b[0m \u001b[0mpath\u001b[0m \u001b[0;34m=\u001b[0m \u001b[0msplittype\u001b[0m\u001b[0;34m(\u001b[0m\u001b[0murl\u001b[0m\u001b[0;34m)\u001b[0m\u001b[0;34m\u001b[0m\u001b[0m\n\u001b[1;32m    247\u001b[0m \u001b[0;34m\u001b[0m\u001b[0m\n\u001b[0;32m--> 248\u001b[0;31m     \u001b[0;32mwith\u001b[0m \u001b[0mcontextlib\u001b[0m\u001b[0;34m.\u001b[0m\u001b[0mclosing\u001b[0m\u001b[0;34m(\u001b[0m\u001b[0murlopen\u001b[0m\u001b[0;34m(\u001b[0m\u001b[0murl\u001b[0m\u001b[0;34m,\u001b[0m \u001b[0mdata\u001b[0m\u001b[0;34m)\u001b[0m\u001b[0;34m)\u001b[0m \u001b[0;32mas\u001b[0m \u001b[0mfp\u001b[0m\u001b[0;34m:\u001b[0m\u001b[0;34m\u001b[0m\u001b[0m\n\u001b[0m\u001b[1;32m    249\u001b[0m         \u001b[0mheaders\u001b[0m \u001b[0;34m=\u001b[0m \u001b[0mfp\u001b[0m\u001b[0;34m.\u001b[0m\u001b[0minfo\u001b[0m\u001b[0;34m(\u001b[0m\u001b[0;34m)\u001b[0m\u001b[0;34m\u001b[0m\u001b[0m\n\u001b[1;32m    250\u001b[0m \u001b[0;34m\u001b[0m\u001b[0m\n",
      "\u001b[0;32m/usr/local/var/pyenv/versions/3.6.6/lib/python3.6/urllib/request.py\u001b[0m in \u001b[0;36murlopen\u001b[0;34m(url, data, timeout, cafile, capath, cadefault, context)\u001b[0m\n\u001b[1;32m    221\u001b[0m     \u001b[0;32melse\u001b[0m\u001b[0;34m:\u001b[0m\u001b[0;34m\u001b[0m\u001b[0m\n\u001b[1;32m    222\u001b[0m         \u001b[0mopener\u001b[0m \u001b[0;34m=\u001b[0m \u001b[0m_opener\u001b[0m\u001b[0;34m\u001b[0m\u001b[0m\n\u001b[0;32m--> 223\u001b[0;31m     \u001b[0;32mreturn\u001b[0m \u001b[0mopener\u001b[0m\u001b[0;34m.\u001b[0m\u001b[0mopen\u001b[0m\u001b[0;34m(\u001b[0m\u001b[0murl\u001b[0m\u001b[0;34m,\u001b[0m \u001b[0mdata\u001b[0m\u001b[0;34m,\u001b[0m \u001b[0mtimeout\u001b[0m\u001b[0;34m)\u001b[0m\u001b[0;34m\u001b[0m\u001b[0m\n\u001b[0m\u001b[1;32m    224\u001b[0m \u001b[0;34m\u001b[0m\u001b[0m\n\u001b[1;32m    225\u001b[0m \u001b[0;32mdef\u001b[0m \u001b[0minstall_opener\u001b[0m\u001b[0;34m(\u001b[0m\u001b[0mopener\u001b[0m\u001b[0;34m)\u001b[0m\u001b[0;34m:\u001b[0m\u001b[0;34m\u001b[0m\u001b[0m\n",
      "\u001b[0;32m/usr/local/var/pyenv/versions/3.6.6/lib/python3.6/urllib/request.py\u001b[0m in \u001b[0;36mopen\u001b[0;34m(self, fullurl, data, timeout)\u001b[0m\n\u001b[1;32m    509\u001b[0m         \u001b[0;31m# accept a URL or a Request object\u001b[0m\u001b[0;34m\u001b[0m\u001b[0;34m\u001b[0m\u001b[0m\n\u001b[1;32m    510\u001b[0m         \u001b[0;32mif\u001b[0m \u001b[0misinstance\u001b[0m\u001b[0;34m(\u001b[0m\u001b[0mfullurl\u001b[0m\u001b[0;34m,\u001b[0m \u001b[0mstr\u001b[0m\u001b[0;34m)\u001b[0m\u001b[0;34m:\u001b[0m\u001b[0;34m\u001b[0m\u001b[0m\n\u001b[0;32m--> 511\u001b[0;31m             \u001b[0mreq\u001b[0m \u001b[0;34m=\u001b[0m \u001b[0mRequest\u001b[0m\u001b[0;34m(\u001b[0m\u001b[0mfullurl\u001b[0m\u001b[0;34m,\u001b[0m \u001b[0mdata\u001b[0m\u001b[0;34m)\u001b[0m\u001b[0;34m\u001b[0m\u001b[0m\n\u001b[0m\u001b[1;32m    512\u001b[0m         \u001b[0;32melse\u001b[0m\u001b[0;34m:\u001b[0m\u001b[0;34m\u001b[0m\u001b[0m\n\u001b[1;32m    513\u001b[0m             \u001b[0mreq\u001b[0m \u001b[0;34m=\u001b[0m \u001b[0mfullurl\u001b[0m\u001b[0;34m\u001b[0m\u001b[0m\n",
      "\u001b[0;32m/usr/local/var/pyenv/versions/3.6.6/lib/python3.6/urllib/request.py\u001b[0m in \u001b[0;36m__init__\u001b[0;34m(self, url, data, headers, origin_req_host, unverifiable, method)\u001b[0m\n\u001b[1;32m    327\u001b[0m                  \u001b[0morigin_req_host\u001b[0m\u001b[0;34m=\u001b[0m\u001b[0;32mNone\u001b[0m\u001b[0;34m,\u001b[0m \u001b[0munverifiable\u001b[0m\u001b[0;34m=\u001b[0m\u001b[0;32mFalse\u001b[0m\u001b[0;34m,\u001b[0m\u001b[0;34m\u001b[0m\u001b[0m\n\u001b[1;32m    328\u001b[0m                  method=None):\n\u001b[0;32m--> 329\u001b[0;31m         \u001b[0mself\u001b[0m\u001b[0;34m.\u001b[0m\u001b[0mfull_url\u001b[0m \u001b[0;34m=\u001b[0m \u001b[0murl\u001b[0m\u001b[0;34m\u001b[0m\u001b[0m\n\u001b[0m\u001b[1;32m    330\u001b[0m         \u001b[0mself\u001b[0m\u001b[0;34m.\u001b[0m\u001b[0mheaders\u001b[0m \u001b[0;34m=\u001b[0m \u001b[0;34m{\u001b[0m\u001b[0;34m}\u001b[0m\u001b[0;34m\u001b[0m\u001b[0m\n\u001b[1;32m    331\u001b[0m         \u001b[0mself\u001b[0m\u001b[0;34m.\u001b[0m\u001b[0munredirected_hdrs\u001b[0m \u001b[0;34m=\u001b[0m \u001b[0;34m{\u001b[0m\u001b[0;34m}\u001b[0m\u001b[0;34m\u001b[0m\u001b[0m\n",
      "\u001b[0;32m/usr/local/var/pyenv/versions/3.6.6/lib/python3.6/urllib/request.py\u001b[0m in \u001b[0;36mfull_url\u001b[0;34m(self, url)\u001b[0m\n\u001b[1;32m    353\u001b[0m         \u001b[0mself\u001b[0m\u001b[0;34m.\u001b[0m\u001b[0m_full_url\u001b[0m \u001b[0;34m=\u001b[0m \u001b[0munwrap\u001b[0m\u001b[0;34m(\u001b[0m\u001b[0murl\u001b[0m\u001b[0;34m)\u001b[0m\u001b[0;34m\u001b[0m\u001b[0m\n\u001b[1;32m    354\u001b[0m         \u001b[0mself\u001b[0m\u001b[0;34m.\u001b[0m\u001b[0m_full_url\u001b[0m\u001b[0;34m,\u001b[0m \u001b[0mself\u001b[0m\u001b[0;34m.\u001b[0m\u001b[0mfragment\u001b[0m \u001b[0;34m=\u001b[0m \u001b[0msplittag\u001b[0m\u001b[0;34m(\u001b[0m\u001b[0mself\u001b[0m\u001b[0;34m.\u001b[0m\u001b[0m_full_url\u001b[0m\u001b[0;34m)\u001b[0m\u001b[0;34m\u001b[0m\u001b[0m\n\u001b[0;32m--> 355\u001b[0;31m         \u001b[0mself\u001b[0m\u001b[0;34m.\u001b[0m\u001b[0m_parse\u001b[0m\u001b[0;34m(\u001b[0m\u001b[0;34m)\u001b[0m\u001b[0;34m\u001b[0m\u001b[0m\n\u001b[0m\u001b[1;32m    356\u001b[0m \u001b[0;34m\u001b[0m\u001b[0m\n\u001b[1;32m    357\u001b[0m     \u001b[0;34m@\u001b[0m\u001b[0mfull_url\u001b[0m\u001b[0;34m.\u001b[0m\u001b[0mdeleter\u001b[0m\u001b[0;34m\u001b[0m\u001b[0m\n",
      "\u001b[0;32m/usr/local/var/pyenv/versions/3.6.6/lib/python3.6/urllib/request.py\u001b[0m in \u001b[0;36m_parse\u001b[0;34m(self)\u001b[0m\n\u001b[1;32m    382\u001b[0m         \u001b[0mself\u001b[0m\u001b[0;34m.\u001b[0m\u001b[0mtype\u001b[0m\u001b[0;34m,\u001b[0m \u001b[0mrest\u001b[0m \u001b[0;34m=\u001b[0m \u001b[0msplittype\u001b[0m\u001b[0;34m(\u001b[0m\u001b[0mself\u001b[0m\u001b[0;34m.\u001b[0m\u001b[0m_full_url\u001b[0m\u001b[0;34m)\u001b[0m\u001b[0;34m\u001b[0m\u001b[0m\n\u001b[1;32m    383\u001b[0m         \u001b[0;32mif\u001b[0m \u001b[0mself\u001b[0m\u001b[0;34m.\u001b[0m\u001b[0mtype\u001b[0m \u001b[0;32mis\u001b[0m \u001b[0;32mNone\u001b[0m\u001b[0;34m:\u001b[0m\u001b[0;34m\u001b[0m\u001b[0m\n\u001b[0;32m--> 384\u001b[0;31m             \u001b[0;32mraise\u001b[0m \u001b[0mValueError\u001b[0m\u001b[0;34m(\u001b[0m\u001b[0;34m\"unknown url type: %r\"\u001b[0m \u001b[0;34m%\u001b[0m \u001b[0mself\u001b[0m\u001b[0;34m.\u001b[0m\u001b[0mfull_url\u001b[0m\u001b[0;34m)\u001b[0m\u001b[0;34m\u001b[0m\u001b[0m\n\u001b[0m\u001b[1;32m    385\u001b[0m         \u001b[0mself\u001b[0m\u001b[0;34m.\u001b[0m\u001b[0mhost\u001b[0m\u001b[0;34m,\u001b[0m \u001b[0mself\u001b[0m\u001b[0;34m.\u001b[0m\u001b[0mselector\u001b[0m \u001b[0;34m=\u001b[0m \u001b[0msplithost\u001b[0m\u001b[0;34m(\u001b[0m\u001b[0mrest\u001b[0m\u001b[0;34m)\u001b[0m\u001b[0;34m\u001b[0m\u001b[0m\n\u001b[1;32m    386\u001b[0m         \u001b[0;32mif\u001b[0m \u001b[0mself\u001b[0m\u001b[0;34m.\u001b[0m\u001b[0mhost\u001b[0m\u001b[0;34m:\u001b[0m\u001b[0;34m\u001b[0m\u001b[0m\n",
      "\u001b[0;31mValueError\u001b[0m: unknown url type: 'image1'"
     ]
    }
   ],
   "source": [
    "for k in range(1, 5+1):\n",
    "    urllib.request.urlretrieve(f'image{k}')"
   ]
  },
  {
   "cell_type": "code",
   "execution_count": 75,
   "metadata": {},
   "outputs": [
    {
     "data": {
      "text/plain": [
       "('힙스터스.jpg', <http.client.HTTPMessage at 0x10e6904a8>)"
      ]
     },
     "execution_count": 75,
     "metadata": {},
     "output_type": "execute_result"
    }
   ],
   "source": [
    "urllib.request.urlretrieve(image1, save_name1)\n",
    "urllib.request.urlretrieve(image2, save_name2)\n",
    "urllib.request.urlretrieve(image3, save_name3)\n",
    "urllib.request.urlretrieve(image4, save_name4)\n",
    "urllib.request.urlretrieve(image5, save_name5)\n"
   ]
  },
  {
   "cell_type": "code",
   "execution_count": 68,
   "metadata": {},
   "outputs": [
    {
     "data": {
      "text/plain": [
       "'name.jpg'"
      ]
     },
     "execution_count": 68,
     "metadata": {},
     "output_type": "execute_result"
    }
   ],
   "source": [
    "save_image"
   ]
  },
  {
   "cell_type": "code",
   "execution_count": 69,
   "metadata": {},
   "outputs": [
    {
     "data": {
      "text/plain": [
       "('name.jpg', <http.client.HTTPMessage at 0x10e69c7f0>)"
      ]
     },
     "execution_count": 69,
     "metadata": {},
     "output_type": "execute_result"
    }
   ],
   "source": [
    "urllib.request.urlretrieve(image1, save_image)"
   ]
  },
  {
   "cell_type": "code",
   "execution_count": 38,
   "metadata": {},
   "outputs": [],
   "source": [
    "image = soup.select_one(f'body > main > article > aside.restaurant-photos > div.list-photo_wrap.owl-carousel.owl-theme > div.owl-wrapper-outer > div > div:nth-of-type({n}) > figure > figure > img')['src']"
   ]
  },
  {
   "cell_type": "code",
   "execution_count": 39,
   "metadata": {},
   "outputs": [
    {
     "data": {
      "text/plain": [
       "'https://mp-seoul-image-production-s3.mangoplate.com/354157/550285_1534483734942_45688?fit=around|512:512&crop=512:512;*,*&output-format=jpg&output-quality=80'"
      ]
     },
     "execution_count": 39,
     "metadata": {},
     "output_type": "execute_result"
    }
   ],
   "source": [
    "image\n",
    "\n"
   ]
  },
  {
   "cell_type": "code",
   "execution_count": 71,
   "metadata": {},
   "outputs": [
    {
     "data": {
      "text/plain": [
       "'힙스터스'"
      ]
     },
     "execution_count": 71,
     "metadata": {},
     "output_type": "execute_result"
    }
   ],
   "source": [
    "info['name']"
   ]
  },
  {
   "cell_type": "code",
   "execution_count": null,
   "metadata": {},
   "outputs": [],
   "source": []
  },
  {
   "cell_type": "code",
   "execution_count": null,
   "metadata": {},
   "outputs": [],
   "source": []
  },
  {
   "cell_type": "code",
   "execution_count": 53,
   "metadata": {},
   "outputs": [
    {
     "data": {
      "text/plain": [
       "'https://mp-seoul-image-production-s3.mangoplate.com/898096_1534490121750680.jpg?fit=around|512:512&crop=512:512;*,*&output-format=jpg&output-quality=80'"
      ]
     },
     "execution_count": 53,
     "metadata": {},
     "output_type": "execute_result"
    }
   ],
   "source": [
    "soup.select_one('body > main > article > aside.restaurant-photos > div.list-photo_wrap.owl-carousel.owl-theme > div.owl-wrapper-outer > div > div:nth-of-type(1) > figure > figure > img')['src']"
   ]
  },
  {
   "cell_type": "code",
   "execution_count": 57,
   "metadata": {},
   "outputs": [],
   "source": [
    "image_test = []\n",
    "for n in range(1, 5+1):\n",
    "    image_test.append(soup.select_one(f'body > main > article > aside.restaurant-photos > div.list-photo_wrap.owl-carousel.owl-theme > div.owl-wrapper-outer > div > div:nth-of-type({n}) > figure > figure > img')['src'])"
   ]
  },
  {
   "cell_type": "code",
   "execution_count": 58,
   "metadata": {},
   "outputs": [
    {
     "data": {
      "text/plain": [
       "['https://mp-seoul-image-production-s3.mangoplate.com/898096_1534490121750680.jpg?fit=around|512:512&crop=512:512;*,*&output-format=jpg&output-quality=80',\n",
       " 'https://mp-seoul-image-production-s3.mangoplate.com/898096_1534490123668216.jpg?fit=around|512:512&crop=512:512;*,*&output-format=jpg&output-quality=80',\n",
       " 'https://mp-seoul-image-production-s3.mangoplate.com/354157/1116733_1534490007370_49?fit=around|512:512&crop=512:512;*,*&output-format=jpg&output-quality=80',\n",
       " 'https://mp-seoul-image-production-s3.mangoplate.com/354157/1116733_1534490007371_50?fit=around|512:512&crop=512:512;*,*&output-format=jpg&output-quality=80',\n",
       " 'https://mp-seoul-image-production-s3.mangoplate.com/354157/550285_1534483734942_45688?fit=around|512:512&crop=512:512;*,*&output-format=jpg&output-quality=80']"
      ]
     },
     "execution_count": 58,
     "metadata": {},
     "output_type": "execute_result"
    }
   ],
   "source": [
    "image_test"
   ]
  },
  {
   "cell_type": "code",
   "execution_count": 60,
   "metadata": {},
   "outputs": [],
   "source": [
    "image_test = []\n",
    "for n in range(1, 5+1):\n",
    "    image_test.append(soup.select_one(f'body > main > article > aside.restaurant-photos > div.list-photo_wrap.owl-carousel.owl-theme > div.owl-wrapper-outer > div > div:nth-of-type({n}) > figure > figure > img')['src'])\n",
    "count = 1\n",
    "for url in image_test:\n",
    "    restaurant_name = info['name']\n",
    "    img_url = urllib.request.urlretrieve(url, f'{restaurant_name}-{count}.jpg')\n",
    "    count += 1"
   ]
  },
  {
   "cell_type": "code",
   "execution_count": null,
   "metadata": {},
   "outputs": [],
   "source": []
  },
  {
   "cell_type": "code",
   "execution_count": null,
   "metadata": {},
   "outputs": [],
   "source": []
  },
  {
   "cell_type": "code",
   "execution_count": null,
   "metadata": {},
   "outputs": [],
   "source": []
  },
  {
   "cell_type": "code",
   "execution_count": null,
   "metadata": {},
   "outputs": [],
   "source": []
  },
  {
   "cell_type": "code",
   "execution_count": null,
   "metadata": {},
   "outputs": [],
   "source": []
  },
  {
   "cell_type": "code",
   "execution_count": null,
   "metadata": {},
   "outputs": [],
   "source": []
  },
  {
   "cell_type": "code",
   "execution_count": null,
   "metadata": {},
   "outputs": [],
   "source": []
  },
  {
   "cell_type": "code",
   "execution_count": null,
   "metadata": {},
   "outputs": [],
   "source": []
  },
  {
   "cell_type": "code",
   "execution_count": null,
   "metadata": {},
   "outputs": [],
   "source": []
  },
  {
   "cell_type": "code",
   "execution_count": null,
   "metadata": {},
   "outputs": [],
   "source": []
  },
  {
   "cell_type": "code",
   "execution_count": null,
   "metadata": {},
   "outputs": [],
   "source": []
  },
  {
   "cell_type": "code",
   "execution_count": null,
   "metadata": {},
   "outputs": [],
   "source": []
  },
  {
   "cell_type": "code",
   "execution_count": null,
   "metadata": {},
   "outputs": [],
   "source": []
  },
  {
   "cell_type": "code",
   "execution_count": null,
   "metadata": {},
   "outputs": [],
   "source": []
  },
  {
   "cell_type": "code",
   "execution_count": null,
   "metadata": {},
   "outputs": [],
   "source": []
  },
  {
   "cell_type": "code",
   "execution_count": null,
   "metadata": {},
   "outputs": [],
   "source": []
  },
  {
   "cell_type": "code",
   "execution_count": null,
   "metadata": {},
   "outputs": [],
   "source": []
  },
  {
   "cell_type": "code",
   "execution_count": null,
   "metadata": {},
   "outputs": [],
   "source": []
  },
  {
   "cell_type": "code",
   "execution_count": null,
   "metadata": {},
   "outputs": [],
   "source": []
  },
  {
   "cell_type": "code",
   "execution_count": 8,
   "metadata": {},
   "outputs": [],
   "source": []
  },
  {
   "cell_type": "code",
   "execution_count": null,
   "metadata": {},
   "outputs": [],
   "source": []
  },
  {
   "cell_type": "code",
   "execution_count": null,
   "metadata": {},
   "outputs": [],
   "source": []
  }
 ],
 "metadata": {
  "kernelspec": {
   "display_name": "Python 3",
   "language": "python",
   "name": "python3"
  },
  "language_info": {
   "codemirror_mode": {
    "name": "ipython",
    "version": 3
   },
   "file_extension": ".py",
   "mimetype": "text/x-python",
   "name": "python",
   "nbconvert_exporter": "python",
   "pygments_lexer": "ipython3",
   "version": "3.6.6"
  }
 },
 "nbformat": 4,
 "nbformat_minor": 2
}
