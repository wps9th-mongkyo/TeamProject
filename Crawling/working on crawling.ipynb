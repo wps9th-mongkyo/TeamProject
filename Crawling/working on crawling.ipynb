{
 "cells": [
  {
   "cell_type": "markdown",
   "metadata": {},
   "source": [
    "# Import"
   ]
  },
  {
   "cell_type": "code",
   "execution_count": 1,
   "metadata": {},
   "outputs": [],
   "source": [
    "from selenium import webdriver\n",
    "from selenium.webdriver.chrome.options import Options\n",
    "from selenium.webdriver.common.keys import Keys\n",
    "import requests\n",
    "from bs4 import BeautifulSoup\n",
    "import lxml\n",
    "import sys\n",
    "import time\n",
    "import re\n",
    "import urllib.request"
   ]
  },
  {
   "cell_type": "markdown",
   "metadata": {},
   "source": [
    "# chromedriver 위치 설정"
   ]
  },
  {
   "cell_type": "code",
   "execution_count": 2,
   "metadata": {},
   "outputs": [],
   "source": [
    "chromedriver_dir = '/Users/mongkyo/projects/mango-plate/Crawling/chromedriver'\n",
    "# options = webdriver.ChromeOptions()\n",
    "# options.add_argument('headless')\n",
    "# options.add_argument('window-size=1920x1080')\n",
    "# options.add_argument(\"disable-gpu\")\n",
    "# driver = webdriver.Chrome(chormedriver_dir, chrome_option=options)"
   ]
  },
  {
   "cell_type": "markdown",
   "metadata": {},
   "source": [
    "# for문을 사용하여 성수역 검색결과 1페이지 식당 들어갔다 나오기\n",
    "\n",
    "### 식당 별 for문 돌면서 딕셔너리에 값 가져오기. (리스트 안에 디셔너리들을 넣음)"
   ]
  },
  {
   "cell_type": "code",
   "execution_count": 3,
   "metadata": {},
   "outputs": [],
   "source": [
    "store_info = []\n",
    "info = dict()"
   ]
  },
  {
   "cell_type": "code",
   "execution_count": 4,
   "metadata": {
    "scrolled": true
   },
   "outputs": [
    {
     "name": "stdout",
     "output_type": "stream",
     "text": [
      "Ad Found\n",
      "\n",
      "Total Ads: 3\n"
     ]
    }
   ],
   "source": [
    "driver = webdriver.Chrome(chromedriver_dir)\n",
    "driver.get('https://www.mangoplate.com/')\n",
    "all_iframes = driver.find_elements_by_tag_name(\"iframe\")\n",
    "if len(all_iframes) > 0:\n",
    "    print(\"Ad Found\\n\")\n",
    "    driver.execute_script(\"\"\"\n",
    "        var elems = document.getElementsByTagName(\"iframe\"); \n",
    "        for(var i = 0, max = elems.length; i < max; i++)\n",
    "             {\n",
    "                 elems[i].hidden=true;\n",
    "             }\n",
    "                          \"\"\")\n",
    "    print('Total Ads: ' + str(len(all_iframes)))\n",
    "else:\n",
    "    print('No frames found')\n",
    "driver.get('https://www.mangoplate.com/')\n",
    "elem = driver.find_element_by_name(\"main-search\")\n",
    "elem.send_keys(\"성수역\")\n",
    "elem.send_keys(Keys.RETURN)\n",
    "for page in range(1, 2+1):\n",
    "    if page == 1:\n",
    "        pass\n",
    "    else:\n",
    "        driver.find_element_by_xpath(f'/html/body/main/article/div[2]/div/div/section/div[4]/p/a[{page}]').click()\n",
    "        time.sleep(3)\n",
    "    for li in range(1,10+1):\n",
    "        for div in range(1,2+1):\n",
    "            driver.find_element_by_xpath(f'/html/body/main/article/div[2]/div/div/section/div[3]/ul/li[{li}]/div[{div}]/figure/a').click()\n",
    "            html = driver.page_source\n",
    "            soup = BeautifulSoup(html, 'html.parser')\n",
    "            title = soup.find(\"h1\", {\"class\": \"restaurant_name\"})\n",
    "    #         rating = soup.find(\"strong\", {\"class\": \"rate-point\"})\n",
    "            info = dict()\n",
    "            info['name'] = title.get_text()\n",
    "    #         info['평점'] = rating.get_text()\n",
    "            table = soup.find(\"tbody\")\n",
    "            for thtd in table.find_all(\"tr\"):\n",
    "                if thtd.th.get_text() != \"메뉴\":\n",
    "                    temp = thtd.th.get_text().replace(' ', '')\n",
    "                    if temp.replace('\\n', '') == '주소':\n",
    "                        info['address'] = thtd.td.get_text().replace('\\n', '')\n",
    "                    elif temp.replace('\\n', '') == '전화번호':\n",
    "                        info['phone'] = thtd.td.get_text().replace('\\n', '')\n",
    "                    elif temp.replace('\\n', '') == '음식종류':\n",
    "                        info['food_type'] = thtd.td.get_text().replace('\\n', '')\n",
    "                    elif temp.replace('\\n', '') == '가격대':\n",
    "                        info['pricee_level'] = thtd.td.get_text().replace('\\n', '')\n",
    "                    elif temp.replace('\\n', '') == '주차':\n",
    "                        info['parking'] = thtd.td.get_text().replace('\\n', '')\n",
    "                    elif temp.replace('\\n', '') == '영업시간':\n",
    "                        info['Business_hour'] = thtd.td.get_text().replace('\\n', '')\n",
    "                    elif temp.replace('\\n', '') == '쉬는시간':\n",
    "                        info['break_time'] = thtd.td.get_text().replace('\\n', '')\n",
    "                    elif temp.replace('\\n', '') == '마지막주문':\n",
    "                        info['last_order'] = thtd.td.get_text().replace('\\n', '')\n",
    "                    elif temp.replace('\\n', '') == '휴일':\n",
    "                        info['holiday'] = thtd.td.get_text().replace('\\n', '')\n",
    "                    elif temp.replace('\\n', '') == '사이트':\n",
    "                        info['website'] = thtd.td.get_text().replace('\\n', '')\n",
    "                    elif temp.replace('\\n', '') == '유튜브':\n",
    "                        info['youtube'] = thtd.td.get_text().replace('\\n', '')\n",
    "                else:\n",
    "                    info[thtd.th.get_text()] = thtd.td.get_text().replace('\\n', '')\n",
    "            time.sleep(1)\n",
    "            map_tag = soup.select_one('body > main > article > div.column-wrapper > div.side-wrap > div > div.map-container.daum_map_wrap > img')['src']\n",
    "            p = re.compile(r'center=(?P<longitude>[\\d\\.]+),(?P<latitude>[\\d\\.]+)')\n",
    "            k= re.search(p, map_tag)\n",
    "            info['longitude'] = k.group('longitude')\n",
    "            info['latitude'] = k.group('latitude')\n",
    "            store_info.append(info)\n",
    "            driver.execute_script(\"window.history.go(-1)\")"
   ]
  },
  {
   "cell_type": "markdown",
   "metadata": {},
   "source": [
    "# shell_plus에서 DB저장"
   ]
  },
  {
   "cell_type": "code",
   "execution_count": 1,
   "metadata": {},
   "outputs": [],
   "source": [
    "from selenium import webdriver\n",
    "from selenium.webdriver.chrome.options import Options\n",
    "from selenium.webdriver.common.keys import Keys\n",
    "import requests\n",
    "from bs4 import BeautifulSoup\n",
    "import lxml\n",
    "import sys\n",
    "import time\n",
    "import re\n",
    "chromedriver_dir = '/Users/mongkyo/projects/mango-plate/Crawling/chromedriver'\n",
    "store_info = []\n",
    "info = dict()"
   ]
  },
  {
   "cell_type": "code",
   "execution_count": null,
   "metadata": {},
   "outputs": [],
   "source": [
    "driver = webdriver.Chrome(chromedriver_dir)\n",
    "driver.get('https://www.mangoplate.com/')\n",
    "all_iframes = driver.find_elements_by_tag_name(\"iframe\")\n",
    "if len(all_iframes) > 0:\n",
    "    print(\"Ad Found\\n\")\n",
    "    driver.execute_script(\"\"\"\n",
    "        var elems = document.getElementsByTagName(\"iframe\"); \n",
    "        for(var i = 0, max = elems.length; i < max; i++)\n",
    "             {\n",
    "                 elems[i].hidden=true;\n",
    "             }\n",
    "                          \"\"\")\n",
    "    print('Total Ads: ' + str(len(all_iframes)))\n",
    "else:\n",
    "    print('No frames found')\n",
    "driver.get('https://www.mangoplate.com/')\n",
    "elem = driver.find_element_by_name(\"main-search\")\n",
    "elem.send_keys(\"성수역\")\n",
    "elem.send_keys(Keys.RETURN)\n",
    "for page in range(1, 2+1):\n",
    "    if page == 1:\n",
    "        pass\n",
    "    else:\n",
    "        driver.find_element_by_xpath(f'/html/body/main/article/div[2]/div/div/section/div[4]/p/a[{page}]').click()\n",
    "        time.sleep(3)\n",
    "    for li in range(1,10+1):\n",
    "        for div in range(1,2+1):\n",
    "            driver.find_element_by_xpath(f'/html/body/main/article/div[2]/div/div/section/div[3]/ul/li[{li}]/div[{div}]/figure/a').click()\n",
    "            html = driver.page_source\n",
    "            soup = BeautifulSoup(html, 'html.parser')\n",
    "            title = soup.find(\"h1\", {\"class\": \"restaurant_name\"})\n",
    "    #         rating = soup.find(\"strong\", {\"class\": \"rate-point\"})\n",
    "            info = dict()\n",
    "            info['name'] = title.get_text()\n",
    "    #         info['평점'] = rating.get_text()\n",
    "            table = soup.find(\"tbody\")\n",
    "            for thtd in table.find_all(\"tr\"):\n",
    "                if thtd.th.get_text() != \"메뉴\":\n",
    "                    temp = thtd.th.get_text().replace(' ', '')\n",
    "                    if temp.replace('\\n', '') == '주소':\n",
    "                        info['address'] = thtd.td.get_text().replace('\\n', '')\n",
    "                    elif temp.replace('\\n', '') == '전화번호':\n",
    "                        info['phone_num'] = thtd.td.get_text().replace('\\n', '')\n",
    "                    elif temp.replace('\\n', '') == '음식종류':\n",
    "                        info['food_type'] = thtd.td.get_text().replace('\\n', '')\n",
    "                    elif temp.replace('\\n', '') == '가격대':\n",
    "                        info['price_level'] = thtd.td.get_text().replace('\\n', '')\n",
    "                    elif temp.replace('\\n', '') == '주차':\n",
    "                        info['parking'] = thtd.td.get_text().replace('\\n', '')\n",
    "                    elif temp.replace('\\n', '') == '영업시간':\n",
    "                        info['Business_hour'] = thtd.td.get_text().replace('\\n', '')\n",
    "                    elif temp.replace('\\n', '') == '쉬는시간':\n",
    "                        info['break_time'] = thtd.td.get_text().replace('\\n', '')\n",
    "                    elif temp.replace('\\n', '') == '마지막주문':\n",
    "                        info['last_order'] = thtd.td.get_text().replace('\\n', '')\n",
    "                    elif temp.replace('\\n', '') == '휴일':\n",
    "                        info['holiday'] = thtd.td.get_text().replace('\\n', '')\n",
    "                    elif temp.replace('\\n', '') == '사이트':\n",
    "                        info['website'] = thtd.td.get_text().replace('\\n', '')\n",
    "                    elif temp.replace('\\n', '') == '유튜브':\n",
    "                        info['youtube'] = thtd.td.get_text().replace('\\n', '')\n",
    "            time.sleep(1)\n",
    "            map_tag = soup.select_one('body > main > article > div.column-wrapper > div.side-wrap > div > div.map-container.daum_map_wrap > img')['src']\n",
    "            p = re.compile(r'center=(?P<longitude>[\\d\\.]+),(?P<latitude>[\\d\\.]+)')\n",
    "            k= re.search(p, map_tag)\n",
    "            info['longitude'] = k.group('longitude')\n",
    "            info['latitude'] = k.group('latitude')\n",
    "            store_info.append(info)\n",
    "            driver.execute_script(\"window.history.go(-1)\")"
   ]
  },
  {
   "cell_type": "markdown",
   "metadata": {},
   "source": [
    "# 사진 정보 가져오기"
   ]
  },
  {
   "cell_type": "code",
   "execution_count": 1,
   "metadata": {},
   "outputs": [
    {
     "ename": "NameError",
     "evalue": "name 'soup' is not defined",
     "output_type": "error",
     "traceback": [
      "\u001b[0;31m---------------------------------------------------------------------------\u001b[0m",
      "\u001b[0;31mNameError\u001b[0m                                 Traceback (most recent call last)",
      "\u001b[0;32m<ipython-input-1-671ceffda4e7>\u001b[0m in \u001b[0;36m<module>\u001b[0;34m\u001b[0m\n\u001b[0;32m----> 1\u001b[0;31m \u001b[0mimage1\u001b[0m \u001b[0;34m=\u001b[0m \u001b[0msoup\u001b[0m\u001b[0;34m.\u001b[0m\u001b[0mselect_one\u001b[0m\u001b[0;34m(\u001b[0m\u001b[0;34m'body > main > article > aside.restaurant-photos > div.list-photo_wrap.owl-carousel.owl-theme > div.owl-wrapper-outer > div > div:nth-of-type(1) > figure > figure > img'\u001b[0m\u001b[0;34m)\u001b[0m\u001b[0;34m[\u001b[0m\u001b[0;34m'src'\u001b[0m\u001b[0;34m]\u001b[0m\u001b[0;34m\u001b[0m\u001b[0m\n\u001b[0m\u001b[1;32m      2\u001b[0m \u001b[0msave_name1\u001b[0m \u001b[0;34m=\u001b[0m \u001b[0;34mf\"{info['name']}\"\u001b[0m \u001b[0;34m+\u001b[0m \u001b[0;34m\".jpg\"\u001b[0m\u001b[0;34m\u001b[0m\u001b[0m\n\u001b[1;32m      3\u001b[0m \u001b[0mimage2\u001b[0m \u001b[0;34m=\u001b[0m \u001b[0msoup\u001b[0m\u001b[0;34m.\u001b[0m\u001b[0mselect_one\u001b[0m\u001b[0;34m(\u001b[0m\u001b[0;34m'body > main > article > aside.restaurant-photos > div.list-photo_wrap.owl-carousel.owl-theme > div.owl-wrapper-outer > div > div:nth-of-type(2) > figure > figure > img'\u001b[0m\u001b[0;34m)\u001b[0m\u001b[0;34m[\u001b[0m\u001b[0;34m'src'\u001b[0m\u001b[0;34m]\u001b[0m\u001b[0;34m\u001b[0m\u001b[0m\n\u001b[1;32m      4\u001b[0m \u001b[0msave_name2\u001b[0m \u001b[0;34m=\u001b[0m \u001b[0minfo\u001b[0m\u001b[0;34m[\u001b[0m\u001b[0;34m'name'\u001b[0m\u001b[0;34m]\u001b[0m \u001b[0;34m+\u001b[0m \u001b[0;34m\".jpg\"\u001b[0m\u001b[0;34m\u001b[0m\u001b[0m\n\u001b[1;32m      5\u001b[0m \u001b[0mimage3\u001b[0m \u001b[0;34m=\u001b[0m \u001b[0msoup\u001b[0m\u001b[0;34m.\u001b[0m\u001b[0mselect_one\u001b[0m\u001b[0;34m(\u001b[0m\u001b[0;34m'body > main > article > aside.restaurant-photos > div.list-photo_wrap.owl-carousel.owl-theme > div.owl-wrapper-outer > div > div:nth-of-type(3) > figure > figure > img'\u001b[0m\u001b[0;34m)\u001b[0m\u001b[0;34m[\u001b[0m\u001b[0;34m'src'\u001b[0m\u001b[0;34m]\u001b[0m\u001b[0;34m\u001b[0m\u001b[0m\n",
      "\u001b[0;31mNameError\u001b[0m: name 'soup' is not defined"
     ]
    }
   ],
   "source": [
    "image1 = soup.select_one('body > main > article > aside.restaurant-photos > div.list-photo_wrap.owl-carousel.owl-theme > div.owl-wrapper-outer > div > div:nth-of-type(1) > figure > figure > img')['src']\n",
    "save_name1 = f\"{info['name']}\" + \".jpg\"\n",
    "image2 = soup.select_one('body > main > article > aside.restaurant-photos > div.list-photo_wrap.owl-carousel.owl-theme > div.owl-wrapper-outer > div > div:nth-of-type(2) > figure > figure > img')['src']\n",
    "save_name2 = info['name'] + \".jpg\"\n",
    "image3 = soup.select_one('body > main > article > aside.restaurant-photos > div.list-photo_wrap.owl-carousel.owl-theme > div.owl-wrapper-outer > div > div:nth-of-type(3) > figure > figure > img')['src']\n",
    "save_name3 = info['name'] + \".jpg\"\n",
    "image4 = soup.select_one('body > main > article > aside.restaurant-photos > div.list-photo_wrap.owl-carousel.owl-theme > div.owl-wrapper-outer > div > div:nth-of-type(4) > figure > figure > img')['src']\n",
    "save_name4 = info['name'] + \".jpg\"\n",
    "image5 = soup.select_one('body > main > article > aside.restaurant-photos > div.list-photo_wrap.owl-carousel.owl-theme > div.owl-wrapper-outer > div > div:nth-of-type(5) > figure > figure > img')['src']\n",
    "save_name5 = info['name'] + \".jpg\"\n",
    "save_names = []\n",
    "for n in range(1, 5+1):\n",
    "    save_names.append(f\"{info['name']}{n}\" + \".jpg\")\n"
   ]
  },
  {
   "cell_type": "code",
   "execution_count": 113,
   "metadata": {},
   "outputs": [],
   "source": [
    "for k in range(0,4+1):\n",
    "    urllib.request.urlretrieve(f'{image}{k}', f\"{save_names[k]}\")"
   ]
  },
  {
   "cell_type": "code",
   "execution_count": 112,
   "metadata": {},
   "outputs": [
    {
     "name": "stdout",
     "output_type": "stream",
     "text": [
      "힙스터스1.jpg\n",
      "힙스터스2.jpg\n",
      "힙스터스3.jpg\n",
      "힙스터스4.jpg\n",
      "힙스터스5.jpg\n"
     ]
    }
   ],
   "source": [
    "for k in range(0, 4+1):\n",
    "    print(f\"{save_names[k]}\")"
   ]
  },
  {
   "cell_type": "code",
   "execution_count": 75,
   "metadata": {},
   "outputs": [
    {
     "data": {
      "text/plain": [
       "('힙스터스.jpg', <http.client.HTTPMessage at 0x10e6904a8>)"
      ]
     },
     "execution_count": 75,
     "metadata": {},
     "output_type": "execute_result"
    }
   ],
   "source": [
    "urllib.request.urlretrieve(image1, save_name1)\n",
    "urllib.request.urlretrieve(image2, save_name2)\n",
    "urllib.request.urlretrieve(image3, save_name3)\n",
    "urllib.request.urlretrieve(image4, save_name4)\n",
    "urllib.request.urlretrieve(image5, save_name5)\n"
   ]
  },
  {
   "cell_type": "code",
   "execution_count": 68,
   "metadata": {},
   "outputs": [
    {
     "data": {
      "text/plain": [
       "'name.jpg'"
      ]
     },
     "execution_count": 68,
     "metadata": {},
     "output_type": "execute_result"
    }
   ],
   "source": [
    "save_image"
   ]
  },
  {
   "cell_type": "code",
   "execution_count": 69,
   "metadata": {},
   "outputs": [
    {
     "data": {
      "text/plain": [
       "('name.jpg', <http.client.HTTPMessage at 0x10e69c7f0>)"
      ]
     },
     "execution_count": 69,
     "metadata": {},
     "output_type": "execute_result"
    }
   ],
   "source": [
    "urllib.request.urlretrieve(image1, save_image)"
   ]
  },
  {
   "cell_type": "code",
   "execution_count": 38,
   "metadata": {},
   "outputs": [],
   "source": [
    "image = soup.select_one(f'body > main > article > aside.restaurant-photos > div.list-photo_wrap.owl-carousel.owl-theme > div.owl-wrapper-outer > div > div:nth-of-type({n}) > figure > figure > img')['src']"
   ]
  },
  {
   "cell_type": "code",
   "execution_count": 39,
   "metadata": {},
   "outputs": [
    {
     "data": {
      "text/plain": [
       "'https://mp-seoul-image-production-s3.mangoplate.com/354157/550285_1534483734942_45688?fit=around|512:512&crop=512:512;*,*&output-format=jpg&output-quality=80'"
      ]
     },
     "execution_count": 39,
     "metadata": {},
     "output_type": "execute_result"
    }
   ],
   "source": [
    "image\n",
    "\n"
   ]
  },
  {
   "cell_type": "code",
   "execution_count": 71,
   "metadata": {},
   "outputs": [
    {
     "data": {
      "text/plain": [
       "'힙스터스'"
      ]
     },
     "execution_count": 71,
     "metadata": {},
     "output_type": "execute_result"
    }
   ],
   "source": [
    "info['name']"
   ]
  },
  {
   "cell_type": "code",
   "execution_count": null,
   "metadata": {},
   "outputs": [],
   "source": []
  },
  {
   "cell_type": "code",
   "execution_count": null,
   "metadata": {},
   "outputs": [],
   "source": []
  },
  {
   "cell_type": "code",
   "execution_count": null,
   "metadata": {},
   "outputs": [],
   "source": []
  },
  {
   "cell_type": "code",
   "execution_count": null,
   "metadata": {},
   "outputs": [],
   "source": []
  },
  {
   "cell_type": "code",
   "execution_count": null,
   "metadata": {},
   "outputs": [],
   "source": []
  },
  {
   "cell_type": "code",
   "execution_count": null,
   "metadata": {},
   "outputs": [],
   "source": []
  },
  {
   "cell_type": "code",
   "execution_count": null,
   "metadata": {},
   "outputs": [],
   "source": []
  },
  {
   "cell_type": "code",
   "execution_count": null,
   "metadata": {},
   "outputs": [],
   "source": []
  },
  {
   "cell_type": "code",
   "execution_count": null,
   "metadata": {},
   "outputs": [],
   "source": []
  },
  {
   "cell_type": "code",
   "execution_count": null,
   "metadata": {},
   "outputs": [],
   "source": []
  },
  {
   "cell_type": "code",
   "execution_count": null,
   "metadata": {},
   "outputs": [],
   "source": []
  },
  {
   "cell_type": "code",
   "execution_count": null,
   "metadata": {},
   "outputs": [],
   "source": []
  },
  {
   "cell_type": "code",
   "execution_count": null,
   "metadata": {},
   "outputs": [],
   "source": []
  },
  {
   "cell_type": "code",
   "execution_count": null,
   "metadata": {},
   "outputs": [],
   "source": []
  },
  {
   "cell_type": "code",
   "execution_count": null,
   "metadata": {},
   "outputs": [],
   "source": []
  },
  {
   "cell_type": "code",
   "execution_count": null,
   "metadata": {},
   "outputs": [],
   "source": []
  },
  {
   "cell_type": "code",
   "execution_count": null,
   "metadata": {},
   "outputs": [],
   "source": []
  },
  {
   "cell_type": "code",
   "execution_count": null,
   "metadata": {},
   "outputs": [],
   "source": []
  },
  {
   "cell_type": "code",
   "execution_count": null,
   "metadata": {},
   "outputs": [],
   "source": []
  },
  {
   "cell_type": "code",
   "execution_count": null,
   "metadata": {},
   "outputs": [],
   "source": []
  },
  {
   "cell_type": "code",
   "execution_count": null,
   "metadata": {},
   "outputs": [],
   "source": []
  },
  {
   "cell_type": "code",
   "execution_count": null,
   "metadata": {},
   "outputs": [],
   "source": []
  },
  {
   "cell_type": "code",
   "execution_count": null,
   "metadata": {},
   "outputs": [],
   "source": []
  },
  {
   "cell_type": "code",
   "execution_count": null,
   "metadata": {},
   "outputs": [],
   "source": []
  },
  {
   "cell_type": "code",
   "execution_count": null,
   "metadata": {},
   "outputs": [],
   "source": []
  },
  {
   "cell_type": "code",
   "execution_count": 8,
   "metadata": {},
   "outputs": [],
   "source": []
  },
  {
   "cell_type": "code",
   "execution_count": 13,
   "metadata": {},
   "outputs": [
    {
     "data": {
      "text/plain": [
       "'https://openapi.naver.com/v1/map/staticmap.bin?clientId=_arHno93XUB1pXRNOA9w&url=https%3A%2F%2Fwww.mangoplate.com%2Frestaurants%2FE8Qy6R_OJXhQ&center=127.055109,37.5431613&level=10&w=400&h=328&baselayer=default'"
      ]
     },
     "execution_count": 13,
     "metadata": {},
     "output_type": "execute_result"
    }
   ],
   "source": [
    "map_tag = soup_tag.select_one('body > main > article > div.column-wrapper > div.side-wrap > div > div.map-container.daum_map_wrap > img')['src']\n",
    "map_tag"
   ]
  },
  {
   "cell_type": "code",
   "execution_count": 14,
   "metadata": {},
   "outputs": [
    {
     "data": {
      "text/plain": [
       "'https://openapi.naver.com/v1/map/staticmap.bin?clientId=_arHno93XUB1pXRNOA9w&url=https%3A%2F%2Fwww.mangoplate.com%2Frestaurants%2FE8Qy6R_OJXhQ&center=127.055109,37.5431613&level=10&w=400&h=328&baselayer=default'"
      ]
     },
     "execution_count": 14,
     "metadata": {},
     "output_type": "execute_result"
    }
   ],
   "source": [
    "map_tag = soup.select_one('body > main > article > div.column-wrapper > div.side-wrap > div > div.map-container.daum_map_wrap > img')\n",
    "soup_tag = BeautifulSoup(html, 'lxml')\n",
    "map_tag = soup_tag.select_one('body > main > article > div.column-wrapper > div.side-wrap > div > div.map-container.daum_map_wrap > img')['src']\n",
    "map_tag"
   ]
  },
  {
   "cell_type": "code",
   "execution_count": 20,
   "metadata": {
    "scrolled": true
   },
   "outputs": [
    {
     "data": {
      "text/plain": [
       "'https://openapi.naver.com/v1/map/staticmap.bin?clientId=_arHno93XUB1pXRNOA9w&url=https%3A%2F%2Fwww.mangoplate.com%2Frestaurants%2FE8Qy6R_OJXhQ&center=127.055109,37.5431613&level=10&w=400&h=328&baselayer=default'"
      ]
     },
     "execution_count": 20,
     "metadata": {},
     "output_type": "execute_result"
    }
   ],
   "source": [
    "map_tag = soup.select_one('body > main > article > div.column-wrapper > div.side-wrap > div > div.map-container.daum_map_wrap > img')['src']\n",
    "map_tag"
   ]
  },
  {
   "cell_type": "code",
   "execution_count": 21,
   "metadata": {},
   "outputs": [],
   "source": [
    "p = re.compile(r'center=(?P<longitude>[\\d\\.]+),(?P<latitude>[\\d\\.]+)')\n",
    "# k = re.search(', map_tag)"
   ]
  },
  {
   "cell_type": "code",
   "execution_count": 22,
   "metadata": {},
   "outputs": [
    {
     "name": "stdout",
     "output_type": "stream",
     "text": [
      "127.055109 37.5431613\n"
     ]
    }
   ],
   "source": [
    "k= re.search(p, map_tag)\n",
    "print(k.group('longitude'), k.group('latitude'))"
   ]
  },
  {
   "cell_type": "code",
   "execution_count": 23,
   "metadata": {},
   "outputs": [],
   "source": [
    "info['longitude'] = k.group('longitude')\n",
    "info['latitude'] = k.group('latitude')"
   ]
  },
  {
   "cell_type": "code",
   "execution_count": 12,
   "metadata": {},
   "outputs": [
    {
     "name": "stdout",
     "output_type": "stream",
     "text": [
      "127.056013 37.543035\n"
     ]
    },
    {
     "data": {
      "text/plain": [
       "{'name': '힙스터스',\n",
       " 'address': '서울시 성동구 성수동2가 315-17',\n",
       " 'phone': '010-9181-9077',\n",
       " 'food_type': '칵테일 / 와인',\n",
       " 'pricee_level': '만원-2만원',\n",
       " 'parking': '주차공간없음 ',\n",
       " 'Business_hour': '월-목: 18:30 - 00:30 금-토: 18:30 - 02:30',\n",
       " 'holiday': '일',\n",
       " 'longitude': '127.056013',\n",
       " 'latitude': '37.543035'}"
      ]
     },
     "execution_count": 12,
     "metadata": {},
     "output_type": "execute_result"
    }
   ],
   "source": [
    "map_tag = soup.select_one('body > main > article > div.column-wrapper > div.side-wrap > div > div.map-container.daum_map_wrap > img')['src']\n",
    "p = re.compile(r'center=(?P<longitude>[\\d\\.]+),(?P<latitude>[\\d\\.]+)')\n",
    "k= re.search(p, map_tag)\n",
    "info['longitude'] = k.group('longitude')\n",
    "info['latitude'] = k.group('latitude')\n",
    "info"
   ]
  },
  {
   "cell_type": "code",
   "execution_count": 24,
   "metadata": {},
   "outputs": [
    {
     "data": {
      "text/plain": [
       "{'name': '핑거팁스',\n",
       " 'address': '서울시 성동구 성수동2가 315-36',\n",
       " 'phone': '070-4232-0805',\n",
       " 'food_type': '브런치 / 버거 / 샌드위치',\n",
       " 'pricee_level': '만원 미만',\n",
       " 'parking': '주차공간없음 ',\n",
       " 'Business_hour': '화-금: 11:00 - 22:00 토-일: 11:00 - 21:00',\n",
       " 'break_time': '월-금: 15:20 - 17:30',\n",
       " 'holiday': '월',\n",
       " 'longitude': '127.055109',\n",
       " 'latitude': '37.5431613'}"
      ]
     },
     "execution_count": 24,
     "metadata": {},
     "output_type": "execute_result"
    }
   ],
   "source": [
    "info"
   ]
  },
  {
   "cell_type": "code",
   "execution_count": 25,
   "metadata": {},
   "outputs": [],
   "source": [
    "soup = BeautifulSoup(html, 'html.parser')\n",
    "title = soup.find(\"h1\", {\"class\": \"restaurant_name\"})\n",
    "#         rating = soup.find(\"strong\", {\"class\": \"rate-point\"})\n",
    "info = dict()\n",
    "info['name'] = title.get_text()\n",
    "#         info['평점'] = rating.get_text()\n",
    "table = soup.find(\"tbody\")\n",
    "for thtd in table.find_all(\"tr\"):\n",
    "    if thtd.th.get_text() != \"메뉴\":\n",
    "        temp = thtd.th.get_text().replace(' ', '')\n",
    "        if temp.replace('\\n', '') == '주소':\n",
    "            info['address'] = thtd.td.get_text().replace('\\n', '')\n",
    "        elif temp.replace('\\n', '') == '전화번호':\n",
    "            info['phone'] = thtd.td.get_text().replace('\\n', '')\n",
    "        elif temp.replace('\\n', '') == '음식종류':\n",
    "            info['food_type'] = thtd.td.get_text().replace('\\n', '')\n",
    "    else:\n",
    "        info[thtd.th.get_text()] = thtd.td.get_text().replace('\\n', '')"
   ]
  },
  {
   "cell_type": "code",
   "execution_count": 68,
   "metadata": {},
   "outputs": [
    {
     "data": {
      "text/plain": [
       "{'name': '미야꼬',\n",
       " 'address': '서울시 성동구 성수동2가 277-20',\n",
       " 'phone': '02-462-8341',\n",
       " 'food_type': '정통 일식 / 일반 일식'}"
      ]
     },
     "execution_count": 68,
     "metadata": {},
     "output_type": "execute_result"
    }
   ],
   "source": [
    "info"
   ]
  },
  {
   "cell_type": "code",
   "execution_count": null,
   "metadata": {},
   "outputs": [],
   "source": []
  },
  {
   "cell_type": "code",
   "execution_count": null,
   "metadata": {},
   "outputs": [],
   "source": []
  }
 ],
 "metadata": {
  "kernelspec": {
   "display_name": "Python 3",
   "language": "python",
   "name": "python3"
  },
  "language_info": {
   "codemirror_mode": {
    "name": "ipython",
    "version": 3
   },
   "file_extension": ".py",
   "mimetype": "text/x-python",
   "name": "python",
   "nbconvert_exporter": "python",
   "pygments_lexer": "ipython3",
   "version": "3.6.6"
  }
 },
 "nbformat": 4,
 "nbformat_minor": 2
}
